{
 "cells": [
  {
   "cell_type": "markdown",
   "id": "ee11d7b4",
   "metadata": {},
   "source": [
    "# HTML IDs\n",
    "\n",
    "> Centralized HTML ID constants for interaction pattern components"
   ]
  },
  {
   "cell_type": "code",
   "execution_count": null,
   "id": "b8724534",
   "metadata": {},
   "outputs": [],
   "source": [
    "#| default_exp core.html_ids"
   ]
  },
  {
   "cell_type": "code",
   "execution_count": null,
   "id": "32e78d0f",
   "metadata": {},
   "outputs": [],
   "source": [
    "#| hide\n",
    "from nbdev.showdoc import *"
   ]
  },
  {
   "cell_type": "code",
   "execution_count": null,
   "id": "46a3b04c",
   "metadata": {},
   "outputs": [],
   "source": [
    "#| export\n",
    "from cjm_fasthtml_app_core.core.html_ids import AppHtmlIds"
   ]
  },
  {
   "cell_type": "markdown",
   "id": "f19c066d",
   "metadata": {},
   "source": [
    "## InteractionHtmlIds Class\n",
    "\n",
    "This class provides centralized HTML ID constants for interaction pattern components. It extends `AppHtmlIds` from `cjm-fasthtml-app-core` to inherit base application IDs."
   ]
  },
  {
   "cell_type": "code",
   "execution_count": null,
   "id": "11ee23b5",
   "metadata": {},
   "outputs": [],
   "source": [
    "#| export\n",
    "class InteractionHtmlIds(AppHtmlIds):\n",
    "    \"\"\"HTML ID constants for interaction pattern components.\n",
    "    \n",
    "    Inherits from AppHtmlIds:\n",
    "        - MAIN_CONTENT = \"main-content\"\n",
    "        - ALERT_CONTAINER = \"alert-container\"\n",
    "        - as_selector(id_str) - static method\n",
    "    \"\"\"\n",
    "    \n",
    "    # Step flow components\n",
    "    STEP_FLOW_CONTAINER = \"step-flow-container\"\n",
    "    STEP_FLOW_PROGRESS = \"step-flow-progress\"\n",
    "    STEP_FLOW_CONTENT = \"step-flow-content\"\n",
    "    STEP_FLOW_NAVIGATION = \"step-flow-navigation\"\n",
    "    \n",
    "    # Navigation buttons\n",
    "    STEP_FLOW_BACK_BTN = \"step-flow-back-btn\"\n",
    "    STEP_FLOW_NEXT_BTN = \"step-flow-next-btn\"\n",
    "    STEP_FLOW_CANCEL_BTN = \"step-flow-cancel-btn\"\n",
    "    STEP_FLOW_SUBMIT_BTN = \"step-flow-submit-btn\"\n",
    "    \n",
    "    # Tabbed interface components\n",
    "    TABBED_INTERFACE_CONTAINER = \"tabbed-interface-container\"\n",
    "    TABBED_INTERFACE_TABS = \"tabbed-interface-tabs\"\n",
    "    TABBED_INTERFACE_CONTENT = \"tabbed-interface-content\"\n",
    "    \n",
    "    @staticmethod\n",
    "    def step_content(step_id: str  # Step identifier\n",
    "                    ) -> str:  # HTML ID for step content\n",
    "        \"\"\"Generate HTML ID for a specific step's content.\"\"\"\n",
    "        return f\"step-{step_id}-content\"\n",
    "    \n",
    "    @staticmethod\n",
    "    def step_indicator(step_id: str  # Step identifier\n",
    "                      ) -> str:  # HTML ID for step indicator\n",
    "        \"\"\"Generate HTML ID for a specific step's progress indicator.\"\"\"\n",
    "        return f\"step-{step_id}-indicator\"\n",
    "    \n",
    "    @staticmethod\n",
    "    def tab_radio(tab_id: str  # Tab identifier\n",
    "                 ) -> str:  # HTML ID for tab radio input\n",
    "        \"\"\"Generate HTML ID for a specific tab's radio input.\"\"\"\n",
    "        return f\"tab-{tab_id}-radio\"\n",
    "    \n",
    "    @staticmethod\n",
    "    def tab_content(tab_id: str  # Tab identifier\n",
    "                   ) -> str:  # HTML ID for tab content\n",
    "        \"\"\"Generate HTML ID for a specific tab's content.\"\"\"\n",
    "        return f\"tab-{tab_id}-content\""
   ]
  },
  {
   "cell_type": "markdown",
   "id": "05091e35",
   "metadata": {},
   "source": [
    "## Usage Examples"
   ]
  },
  {
   "cell_type": "code",
   "execution_count": null,
   "id": "3cdbad03",
   "metadata": {},
   "outputs": [
    {
     "name": "stdout",
     "output_type": "stream",
     "text": [
      "Container ID: step-flow-container\n",
      "Container selector: #step-flow-container\n"
     ]
    }
   ],
   "source": [
    "# Access base IDs\n",
    "container_id = InteractionHtmlIds.STEP_FLOW_CONTAINER\n",
    "print(f\"Container ID: {container_id}\")\n",
    "print(f\"Container selector: {InteractionHtmlIds.as_selector(container_id)}\")"
   ]
  },
  {
   "cell_type": "code",
   "execution_count": null,
   "id": "35b2c718",
   "metadata": {},
   "outputs": [
    {
     "name": "stdout",
     "output_type": "stream",
     "text": [
      "Step content ID: step-select-plugin-content\n",
      "Step indicator ID: step-select-plugin-indicator\n",
      "Tab radio ID: tab-settings-radio\n",
      "Tab content ID: tab-settings-content\n"
     ]
    }
   ],
   "source": [
    "# Generate step-specific IDs\n",
    "step_id = \"select-plugin\"\n",
    "content_id = InteractionHtmlIds.step_content(step_id)\n",
    "indicator_id = InteractionHtmlIds.step_indicator(step_id)\n",
    "\n",
    "print(f\"Step content ID: {content_id}\")\n",
    "print(f\"Step indicator ID: {indicator_id}\")\n",
    "\n",
    "# Generate tab-specific IDs\n",
    "tab_id = \"settings\"\n",
    "tab_radio_id = InteractionHtmlIds.tab_radio(tab_id)\n",
    "tab_content_id = InteractionHtmlIds.tab_content(tab_id)\n",
    "\n",
    "print(f\"Tab radio ID: {tab_radio_id}\")\n",
    "print(f\"Tab content ID: {tab_content_id}\")"
   ]
  },
  {
   "cell_type": "code",
   "execution_count": null,
   "id": "ebd3f099",
   "metadata": {},
   "outputs": [],
   "source": []
  },
  {
   "cell_type": "code",
   "execution_count": null,
   "id": "20f15c3b",
   "metadata": {},
   "outputs": [],
   "source": [
    "#| hide\n",
    "import nbdev; nbdev.nbdev_export()"
   ]
  }
 ],
 "metadata": {
  "kernelspec": {
   "display_name": "python3",
   "language": "python",
   "name": "python3"
  }
 },
 "nbformat": 4,
 "nbformat_minor": 5
}
