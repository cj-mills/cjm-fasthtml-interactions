{
 "cells": [
  {
   "cell_type": "markdown",
   "id": "fc9f0018",
   "metadata": {},
   "source": [
    "# Interaction Context\n",
    "\n",
    "> Context management for interaction patterns providing access to state, request, and custom data"
   ]
  },
  {
   "cell_type": "code",
   "execution_count": null,
   "id": "b9fb2485",
   "metadata": {},
   "outputs": [],
   "source": [
    "#| default_exp core.context"
   ]
  },
  {
   "cell_type": "code",
   "execution_count": null,
   "id": "a923c6a4",
   "metadata": {},
   "outputs": [],
   "source": [
    "#| hide\n",
    "from nbdev.showdoc import *"
   ]
  },
  {
   "cell_type": "code",
   "execution_count": null,
   "id": "439fd8b1",
   "metadata": {},
   "outputs": [],
   "source": [
    "#| export\n",
    "from typing import Dict, Any, Optional\n",
    "from dataclasses import dataclass, field"
   ]
  },
  {
   "cell_type": "markdown",
   "id": "43d0ce41",
   "metadata": {},
   "source": [
    "## InteractionContext Class\n",
    "\n",
    "The `InteractionContext` class provides a unified interface for accessing state, request data, and custom data within interaction patterns. This allows render functions and handlers to access everything they need without passing many individual parameters."
   ]
  },
  {
   "cell_type": "code",
   "execution_count": null,
   "id": "698309c0",
   "metadata": {},
   "outputs": [],
   "source": [
    "#| export\n",
    "@dataclass\n",
    "class InteractionContext:\n",
    "    \"\"\"Context for interaction patterns providing access to state, request, and custom data.\"\"\"\n",
    "    \n",
    "    state: Dict[str, Any] = field(default_factory=dict)  # Workflow state\n",
    "    request: Optional[Any] = None  # FastHTML request object\n",
    "    session: Optional[Any] = None  # FastHTML session object\n",
    "    data: Dict[str, Any] = field(default_factory=dict)  # Custom data from data loaders\n",
    "    metadata: Dict[str, Any] = field(default_factory=dict)  # Additional metadata\n",
    "    \n",
    "    def get(self, \n",
    "            key: str,  # Key to retrieve from state\n",
    "            default: Any = None  # Default value if key not found\n",
    "           ) -> Any:  # Value from state or default\n",
    "        \"\"\"Get value from workflow state.\"\"\"\n",
    "        return self.state.get(key, default)\n",
    "    \n",
    "    def get_data(self, \n",
    "                 key: str,  # Key to retrieve from data\n",
    "                 default: Any = None  # Default value if key not found\n",
    "                ) -> Any:  # Value from data or default\n",
    "        \"\"\"Get value from custom data.\"\"\"\n",
    "        return self.data.get(key, default)\n",
    "    \n",
    "    def has(self, \n",
    "            key: str  # Key to check in state\n",
    "           ) -> bool:  # True if key exists in state\n",
    "        \"\"\"Check if key exists in workflow state.\"\"\"\n",
    "        return key in self.state\n",
    "    \n",
    "    def set(self, \n",
    "            key: str,  # Key to set in state\n",
    "            value: Any  # Value to store\n",
    "           ) -> None:\n",
    "        \"\"\"Set value in workflow state.\"\"\"\n",
    "        self.state[key] = value\n",
    "    \n",
    "    def get_all_state(self) -> Dict[str, Any]:  # All workflow state\n",
    "        \"\"\"Get all workflow state as dictionary.\"\"\"\n",
    "        return self.state.copy()\n",
    "    \n",
    "    def update_state(self, \n",
    "                     updates: Dict[str, Any]  # State updates to apply\n",
    "                    ) -> None:\n",
    "        \"\"\"Update multiple state values at once.\"\"\"\n",
    "        self.state.update(updates)"
   ]
  },
  {
   "cell_type": "markdown",
   "id": "51fdaaf4",
   "metadata": {},
   "source": [
    "## Usage Examples\n",
    "\n",
    "The `InteractionContext` is typically created and managed by interaction pattern classes (like `StepFlow`), but here are examples showing how it's used:"
   ]
  },
  {
   "cell_type": "code",
   "execution_count": null,
   "id": "51071241",
   "metadata": {},
   "outputs": [
    {
     "data": {
      "text/plain": [
       "InteractionContext(state={}, request=None, session=None, data={}, metadata={})"
      ]
     },
     "execution_count": null,
     "metadata": {},
     "output_type": "execute_result"
    }
   ],
   "source": [
    "# Create a context\n",
    "ctx = InteractionContext()\n",
    "ctx"
   ]
  },
  {
   "cell_type": "code",
   "execution_count": null,
   "id": "b85bd535",
   "metadata": {},
   "outputs": [
    {
     "name": "stdout",
     "output_type": "stream",
     "text": [
      "Plugin ID: transcription_voxtral\n",
      "Has file_path: False\n"
     ]
    }
   ],
   "source": [
    "# Store and retrieve state\n",
    "ctx.set(\"plugin_id\", \"transcription_voxtral\")\n",
    "ctx.set(\"step\", 1)\n",
    "\n",
    "print(f\"Plugin ID: {ctx.get('plugin_id')}\")\n",
    "print(f\"Has file_path: {ctx.has('file_path')}\")"
   ]
  },
  {
   "cell_type": "code",
   "execution_count": null,
   "id": "9bf729dd",
   "metadata": {},
   "outputs": [
    {
     "name": "stdout",
     "output_type": "stream",
     "text": [
      "Plugins available: 5\n",
      "First plugin: {'name': 'voxtral', 'title': 'Voxtral HF'}\n"
     ]
    }
   ],
   "source": [
    "# Context with custom data (typically from data loaders)\n",
    "ctx_with_data = InteractionContext(\n",
    "    state={\"user_id\": \"123\"},\n",
    "    data={\n",
    "        \"plugins\": [\n",
    "            {\"name\": \"voxtral\", \"title\": \"Voxtral HF\"},\n",
    "            {\"name\": \"whisper\", \"title\": \"Whisper\"}\n",
    "        ],\n",
    "        \"plugin_count\": 5\n",
    "    }\n",
    ")\n",
    "\n",
    "plugins = ctx_with_data.get_data(\"plugins\", [])\n",
    "print(f\"Plugins available: {ctx_with_data.get_data('plugin_count')}\")\n",
    "print(f\"First plugin: {plugins[0]}\")"
   ]
  },
  {
   "cell_type": "code",
   "execution_count": null,
   "id": "5641bb64",
   "metadata": {},
   "outputs": [
    {
     "name": "stdout",
     "output_type": "stream",
     "text": [
      "All state: {'plugin_id': 'transcription_voxtral', 'step': 1, 'file_path': '/path/to/file.mp3', 'confirmed': True}\n"
     ]
    }
   ],
   "source": [
    "# Batch updates\n",
    "ctx.update_state({\n",
    "    \"file_path\": \"/path/to/file.mp3\",\n",
    "    \"confirmed\": True\n",
    "})\n",
    "\n",
    "print(f\"All state: {ctx.get_all_state()}\")"
   ]
  },
  {
   "cell_type": "markdown",
   "id": "cdafdcdc",
   "metadata": {},
   "source": [
    "## Using Context in Render Functions\n",
    "\n",
    "Here's how the context is typically used within step render functions:"
   ]
  },
  {
   "cell_type": "code",
   "execution_count": null,
   "id": "681d801b",
   "metadata": {},
   "outputs": [],
   "source": [
    "# Example render function signature\n",
    "def render_plugin_selector(ctx: InteractionContext):\n",
    "    \"\"\"Render plugin selection step.\"\"\"\n",
    "    # Access loaded data\n",
    "    plugins = ctx.get_data(\"plugins\", [])\n",
    "    \n",
    "    # Access current state\n",
    "    selected = ctx.get(\"plugin_id\")\n",
    "    \n",
    "    # Could access request if needed\n",
    "    # app_state = ctx.request.app.state\n",
    "    \n",
    "    # Return rendered UI\n",
    "    return f\"Render {len(plugins)} plugins, selected: {selected}\""
   ]
  },
  {
   "cell_type": "code",
   "execution_count": null,
   "id": "891d9d92",
   "metadata": {},
   "outputs": [
    {
     "data": {
      "text/plain": [
       "'Render 2 plugins, selected: plugin_1'"
      ]
     },
     "execution_count": null,
     "metadata": {},
     "output_type": "execute_result"
    }
   ],
   "source": [
    "# Simulate using the render function\n",
    "test_ctx = InteractionContext(\n",
    "    state={\"plugin_id\": \"plugin_1\"},\n",
    "    data={\"plugins\": [{}, {}]}  # 2 plugins\n",
    ")\n",
    "\n",
    "render_plugin_selector(test_ctx)"
   ]
  },
  {
   "cell_type": "code",
   "execution_count": null,
   "id": "f1f0feba",
   "metadata": {},
   "outputs": [],
   "source": []
  },
  {
   "cell_type": "code",
   "execution_count": null,
   "id": "9fd382c5",
   "metadata": {},
   "outputs": [],
   "source": [
    "#| hide\n",
    "import nbdev; nbdev.nbdev_export()"
   ]
  }
 ],
 "metadata": {
  "kernelspec": {
   "display_name": "python3",
   "language": "python",
   "name": "python3"
  }
 },
 "nbformat": 4,
 "nbformat_minor": 5
}
